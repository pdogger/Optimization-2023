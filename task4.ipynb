{
 "cells": [
  {
   "cell_type": "markdown",
   "metadata": {},
   "source": [
    "Решить задачи указанным в задании численным методом на любом языке программирования. \n",
    "В результате работы программы выдать количество сделанных итераций, найденное решение \n",
    "и последовательность {x_k} на каждой итерации.\n",
    "\n",
    "Задача 4. Из начального приближения x0 = (0, 0) решить задачу нелинейного программирования методом \n",
    "условного градиента, завершая вычисления при ǁx_(k+1) - xkǁ ≤ 0,1.\n",
    "f(x) = x1^2 - 4*x1 + x2^2 - 2*x2 -> min, 0≤x1≤1, 0≤x2≤2."
   ]
  },
  {
   "cell_type": "code",
   "execution_count": 1,
   "metadata": {},
   "outputs": [
    {
     "name": "stdout",
     "output_type": "stream",
     "text": [
      "k=0, x[1]=[0.8 1.6]\n",
      "k=1, x[2]=[0.89230769 0.86153846]\n",
      "k=2, x[3]=[0.91511312 1.10262443]\n",
      "k=3, x[4]=[0.92935934 0.91757543]\n",
      "k=4, x[5]=[0.93925627 1.06922573]\n",
      "k=5, x[6]=[0.94658892 0.94015472]\n",
      "k=6, x[7]=[0.95226573 1.05280075]\n",
      "k=7, x[8]=[0.95680427 0.95270123]\n",
      "k=8, x[9]=[0.9605234 1.0428731]\n",
      "\n",
      "Сработал критерий остановки: ||x[k+1] - x[k]|| <= 0.1\n",
      "Всего шагов: 8\n",
      "Найденное решение: x = [0.9605234 1.0428731]\n"
     ]
    }
   ],
   "source": [
    "from sympy import lambdify, symbols, derive_by_array\n",
    "import numpy as np\n",
    "from scipy.optimize import linprog # Можно ли это использовать?\n",
    "\n",
    "\n",
    "x1, x2 = symbols(\"x(1:3)\")\n",
    "expr = x1**2 - 4*x1 + x2**2 - 2*x2\n",
    "A = np.array([[expr.coeff(x1**2), expr.coeff(x1*x2)], [expr.coeff(x1*x2), expr.coeff(x2**2)]])\n",
    "b = np.array([expr.coeff(x1), expr.coeff(x2)])\n",
    "df = lambdify((x1, x2), derive_by_array(expr, [x1, x2]), \"numpy\")\n",
    "\n",
    "epsilon = 0.1\n",
    "x1_bounds = (0, 1)\n",
    "x2_bounds = (0, 2)\n",
    "x = np.array([[0, 0]])\n",
    "\n",
    "for k in range(1000):\n",
    "    scalar_expr = np.dot(df(*x[k]), [x1-x[k][0], x2-x[k][1]])\n",
    "    xmin = linprog(c=[scalar_expr.coeff(x1), scalar_expr.coeff(x2)], \n",
    "                   bounds=[x1_bounds, x2_bounds]).x\n",
    "    d = xmin - x[k]\n",
    "    alpha = -(np.dot(2*A.dot(x[k]) + b, d) / (2*A.dot(d).dot(d)))\n",
    "    \n",
    "    x_next = [np.double(x[k] + alpha*d)]\n",
    "    x = np.append(x, x_next, axis=0)\n",
    "    \n",
    "    print(f\"{k=}, x[{k+1}]={x[k+1]}\")\n",
    "\n",
    "    if np.linalg.norm(x[k+1] - x[k]) <= epsilon:\n",
    "        print(\"\\nСработал критерий остановки: ||x[k+1] - x[k]|| <=\", epsilon)\n",
    "        break\n",
    "\n",
    "print(\"Всего шагов:\", k)\n",
    "print(\"Найденное решение: x =\", x[k+1])"
   ]
  }
 ],
 "metadata": {
  "kernelspec": {
   "display_name": "Python 3",
   "language": "python",
   "name": "python3"
  },
  "language_info": {
   "codemirror_mode": {
    "name": "ipython",
    "version": 3
   },
   "file_extension": ".py",
   "mimetype": "text/x-python",
   "name": "python",
   "nbconvert_exporter": "python",
   "pygments_lexer": "ipython3",
   "version": "3.11.4"
  }
 },
 "nbformat": 4,
 "nbformat_minor": 2
}
