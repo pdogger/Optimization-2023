{
 "cells": [
  {
   "cell_type": "markdown",
   "metadata": {},
   "source": [
    "Решить задачи указанным в задании численным методом на любом языке программирования. \n",
    "В результате работы программы выдать количество сделанных итераций, найденное решение \n",
    "и последовательность {x_k} на каждой итерации.\n",
    "\n",
    "Задача 5. Решить задачу \n",
    "f(x) = 2*x1^2 + (x2-1)^2 -> min, x∈D = {x∈R^2 | 2x1 + x2 = 0}\n",
    "методом квадратичного штрафа."
   ]
  },
  {
   "cell_type": "code",
   "execution_count": 47,
   "metadata": {},
   "outputs": [
    {
     "name": "stdout",
     "output_type": "stream",
     "text": [
      "k=0, x[0]=[-0.1999958   0.79999151]\n",
      "k=1, x[1]=[-0.27271073  0.727237  ]\n",
      "k=2, x[2]=[-0.29409602  0.70584365]\n",
      "k=3, x[3]=[-0.30433403  0.69562983]\n",
      "k=4, x[4]=[-0.31031899  0.68960552]\n",
      "k=5, x[5]=[-0.31427054  0.68568339]\n",
      "k=6, x[6]=[-0.31705611  0.68289116]\n",
      "k=7, x[7]=[-0.31911682  0.68078665]\n",
      "k=8, x[8]=[-0.32071977  0.67917571]\n",
      "k=9, x[9]=[-0.32199313  0.67788068]\n",
      "k=10, x[10]=[-0.32304051  0.6768547 ]\n",
      "k=11, x[11]=[-0.32391914  0.67600584]\n",
      "k=12, x[12]=[-0.32464144  0.67525772]\n",
      "k=13, x[13]=[-0.32527122  0.67463758]\n",
      "Сработал критерий остановки: ||x[k+1] - x[k]|| <= 0.001\n",
      "Всего шагов: 13\n",
      "Найденное решение: x = [-0.32527122  0.67463758]\n"
     ]
    }
   ],
   "source": [
    "from sympy import lambdify, symbols, derive_by_array\n",
    "import numpy as np\n",
    "from scipy.optimize import minimize\n",
    "\n",
    "x1, x2 = symbols(\"x(1:3)\")\n",
    "expr = 2*x1**2 + (x2-1)**2\n",
    "f = lambdify((x1, x2), expr, \"numpy\")\n",
    "df = lambdify((x1, x2), derive_by_array(expr, [x1, x2]), \"numpy\")\n",
    "\n",
    "F_expr = 2*x1 + x2 \n",
    "\n",
    "c = symbols(\"c\")\n",
    "phi_expr = expr + c/2*(F_expr)**2\n",
    "phi = lambdify((x1, x2, c), phi_expr, \"numpy\")\n",
    "dphi = lambdify((x1, x2, c), derive_by_array(phi_expr, [x1, x2]), \"numpy\")\n",
    "\n",
    "epsilon = 0.001\n",
    "\n",
    "x = np.empty((1000, 2))\n",
    "for k in range(1000):\n",
    "    ck = 2*k+1\n",
    "    \n",
    "    _x = np.array([[1, 1]])\n",
    "    for kk in range(1000):\n",
    "        d = -dphi(*_x[kk], ck)\n",
    "        _alpha = 1\n",
    "        _epsilon = _tetta = 1/2\n",
    "        while phi(*(_x[kk]+_alpha*d), ck) > phi(*_x[kk], ck) + _epsilon*_alpha*np.dot(-d, d):\n",
    "            _alpha = _tetta*_alpha\n",
    "        \n",
    "        _x_next = [np.double(_x[kk] + _alpha*d)]\n",
    "        _x = np.append(_x, _x_next, axis=0)\n",
    "\n",
    "        # print(f\"{kk=}, x[{kk+1}]={x[kk+1]}\")\n",
    "        \n",
    "        if np.linalg.norm(_x[kk+1] - _x[kk]) <= 10**(-9) or \\\n",
    "            abs(phi(*_x[kk+1], ck)-phi(*_x[kk], ck)) <= 10**(-9) or \\\n",
    "                np.linalg.norm(dphi(*_x[kk+1], ck)) <= 10**(-9):\n",
    "            break\n",
    "    \n",
    "    x[k] = _x[-1]\n",
    "    print(f\"{k=}, x[{k}]={x[k]}\")\n",
    "\n",
    "    if k > 0:\n",
    "        if np.linalg.norm(x[k] - x[k-1]) <= epsilon:\n",
    "            print(f\"Сработал критерий остановки: ||x[k+1] - x[k]|| <= {epsilon}\")\n",
    "            break\n",
    "        if abs(f(*x[k])-f(*x[k-1])) <= epsilon:\n",
    "            print(f\"Сработал критерий остановки: |f(x[k+1]) - f(x[k])| <= {epsilon}\")\n",
    "            break\n",
    "    if np.linalg.norm(df(*x[k])) <= epsilon:\n",
    "        print(f\"Сработал критерий остановки: ||df'(x[k+1])|| <= {epsilon}\")\n",
    "        break\n",
    "    \n",
    "print(\"Всего шагов:\", k)\n",
    "print(\"Найденное решение: x =\", x[k])"
   ]
  }
 ],
 "metadata": {
  "kernelspec": {
   "display_name": "Python 3",
   "language": "python",
   "name": "python3"
  },
  "language_info": {
   "codemirror_mode": {
    "name": "ipython",
    "version": 3
   },
   "file_extension": ".py",
   "mimetype": "text/x-python",
   "name": "python",
   "nbconvert_exporter": "python",
   "pygments_lexer": "ipython3",
   "version": "3.11.4"
  }
 },
 "nbformat": 4,
 "nbformat_minor": 2
}
